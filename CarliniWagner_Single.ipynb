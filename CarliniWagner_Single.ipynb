{
  "nbformat": 4,
  "nbformat_minor": 0,
  "metadata": {
    "kernelspec": {
      "display_name": "Python 3",
      "language": "python",
      "name": "python3"
    },
    "language_info": {
      "codemirror_mode": {
        "name": "ipython",
        "version": 3
      },
      "file_extension": ".py",
      "mimetype": "text/x-python",
      "name": "python",
      "nbconvert_exporter": "python",
      "pygments_lexer": "ipython3",
      "version": "3.8.1"
    },
    "colab": {
      "name": "CarliniWagner_Single.ipynb",
      "provenance": []
    },
    "accelerator": "GPU"
  },
  "cells": [
    {
      "cell_type": "code",
      "metadata": {
        "id": "gNBIvbJHx46u",
        "colab_type": "code",
        "colab": {}
      },
      "source": [
        "# !pip install foolbox==2.3.0"
      ],
      "execution_count": 17,
      "outputs": []
    },
    {
      "cell_type": "code",
      "metadata": {
        "id": "2hOhTc_yxlcq",
        "colab_type": "code",
        "colab": {}
      },
      "source": [
        "import foolbox\n",
        "import numpy as np\n",
        "import torch\n",
        "import torchvision.models as models\n",
        "from PIL import Image\n",
        "import torchvision.transforms as transforms\n",
        "from torch.autograd import Variable\n",
        "from scipy.special import softmax\n",
        "import cv2\n",
        "import tensorflow as tf\n",
        "import matplotlib.pyplot as plt\n",
        "import os\n",
        "import time \n"
      ],
      "execution_count": 18,
      "outputs": []
    },
    {
      "cell_type": "code",
      "metadata": {
        "id": "XJb0WZ1exlcw",
        "colab_type": "code",
        "colab": {}
      },
      "source": [
        "# preprocess original image \n",
        "def preprocess_orig_image(image):\n",
        "\n",
        "    im_orig = Image.open(image)\n",
        "    im = transforms.Compose([\n",
        "        transforms.Resize(256),\n",
        "        transforms.CenterCrop(224),\n",
        "        transforms.ToTensor()])(im_orig)\n",
        "    im = im.reshape(3,224,224)\n",
        "    return im\n",
        "\n",
        "# create foolbox model given the PyTorch model\n",
        "def test_model(model):\n",
        "    model = model.eval()\n",
        "    preprocessing = dict(mean=[0.485, 0.456, 0.406], std=[0.229, 0.224, 0.225], axis=-3)\n",
        "    fmodel = foolbox.models.PyTorchModel(model, bounds=(0, 1), num_classes=1000, preprocessing=preprocessing)\n",
        "    return fmodel\n",
        "\n",
        "\n",
        "def get_labels(label_orig, label_pert):\n",
        "\n",
        "    labels = open(os.path.join('synset_words.txt'), 'r').read().split('\\n')\n",
        "\n",
        "    str_label_orig = labels[np.int(label_orig)].split(',')[0]\n",
        "    str_label_pert = labels[np.int(label_pert)].split(',')[0]\n",
        "    \n",
        "    return str_label_orig,str_label_pert\n",
        "\n",
        "\n",
        "# comptute the cosine similarity between 2 original image and adversarial image\n",
        "def calculate_cossim(orig,pert):\n",
        "\n",
        "    original_image = orig.flatten()\n",
        "    perturbed_image = pert.flatten()\n",
        "\n",
        "    dot_product = np.dot(original_image, perturbed_image)\n",
        "    norm_a = np.linalg.norm(original_image)\n",
        "    norm_b = np.linalg.norm(perturbed_image)\n",
        "    cossimi = ((dot_product / (norm_a * norm_b)))\n",
        "    return cossimi\n",
        "\n",
        "\n",
        "def mse(imageA, imageB):\n",
        "    # the 'Mean Squared Error' between the two images is the\n",
        "    # sum of the squared difference between the two images;\n",
        "    # NOTE: the two images must have the same dimension\n",
        "    err = np.sum((imageA.astype(\"float\") - imageB.astype(\"float\")) ** 2)\n",
        "    err /= float(imageA.shape[0] * imageA.shape[1])\n",
        "\n",
        "    # return the MSE, the lower the error, the more \"similar\"\n",
        "    # the two images are\n",
        "    return err"
      ],
      "execution_count": 19,
      "outputs": []
    },
    {
      "cell_type": "code",
      "metadata": {
        "id": "tdM3Zi25xlc4",
        "colab_type": "code",
        "colab": {
          "base_uri": "https://localhost:8080/",
          "height": 102
        },
        "outputId": "1a92c9fe-9afd-4f80-d4db-4e7b673d9f9a"
      },
      "source": [
        "model = models.inception_v3(pretrained=True) \n",
        "fmodel = test_model(model)\n",
        "image = preprocess_orig_image(\"test_im1.jpg\")\n",
        "image = image.numpy()\n",
        "\n",
        "image_label = np.argmax(fmodel.forward_one(image))\n",
        "orig_confidence = np.amax(foolbox.utils.softmax(fmodel.forward_one(image)))\n",
        "\n",
        "print (\"Starting Attack\")\n",
        "start_time = time.time()\n",
        "attack = foolbox.v1.attacks.CarliniWagnerL2Attack(fmodel)\n",
        "adversarial = attack(image, image_label)\n",
        "end_time = time.time() - start_time\n",
        "print (\"Attack Ended\")\n",
        "\n",
        "advs_label = np.argmax(fmodel.forward_one(adversarial))\n",
        "advs_confidence = np.amax(foolbox.utils.softmax(fmodel.forward_one(adversarial)))\n",
        "\n",
        "str_label_orig,str_label_advs = get_labels(image_label,advs_label)\n",
        "\n",
        "\n",
        "print (\"Actual Label:\", str_label_orig, \"(Confidence: %.2f%%) \" % (orig_confidence*100))\n",
        "print (\"Predicted Label:\", str_label_advs, \"(Confidence: %.2f%%) \" % (advs_confidence*100))\n",
        "print (\"Time Taken: %.2f\" % end_time)\n"
      ],
      "execution_count": 15,
      "outputs": [
        {
          "output_type": "stream",
          "text": [
            "Starting Attack\n",
            "Attack Ended\n",
            "Actual Label: n01818515 macaw (Confidence: 100.00%) \n",
            "Predicted Label: n01817953 African grey (Confidence: 50.04%) \n",
            "Time Taken: 103.52\n"
          ],
          "name": "stdout"
        }
      ]
    },
    {
      "cell_type": "code",
      "metadata": {
        "scrolled": true,
        "id": "agFB2SMaxlc9",
        "colab_type": "code",
        "colab": {
          "base_uri": "https://localhost:8080/",
          "height": 51
        },
        "outputId": "82f106bc-d711-4ae7-cf30-dbdc6c03d79b"
      },
      "source": [
        "# print (adversarial)\n",
        "\n",
        "orig = np.transpose(image, (1, 2, 0))\n",
        "pert = np.transpose(adversarial, (1, 2, 0))\n",
        "print (mse(orig,pert))\n",
        "print (calculate_cossim(orig,pert))"
      ],
      "execution_count": 16,
      "outputs": [
        {
          "output_type": "stream",
          "text": [
            "1.0829351069079888e-05\n",
            "0.9999932\n"
          ],
          "name": "stdout"
        }
      ]
    },
    {
      "cell_type": "code",
      "metadata": {
        "id": "siWasu_rxldC",
        "colab_type": "code",
        "colab": {}
      },
      "source": [
        ""
      ],
      "execution_count": 16,
      "outputs": []
    }
  ]
}